{
 "cells": [
  {
   "cell_type": "code",
   "execution_count": 8,
   "metadata": {},
   "outputs": [],
   "source": [
    "import pandas as pd\n",
    "import numpy as np\n",
    "import os"
   ]
  },
  {
   "cell_type": "code",
   "execution_count": 2,
   "metadata": {},
   "outputs": [
    {
     "name": "stdout",
     "output_type": "stream",
     "text": [
      "79   318  BLCA\n",
      "197   786  BRCA\n",
      "39   156  CESC\n",
      "74   294  COAD\n",
      "98   392  COADREAD\n",
      "56   224  HNSC\n",
      "109   435  LUAD\n",
      "37   148  PCPG\n",
      "100   400  PRAD\n",
      "25   98  READ\n",
      "36   143  LUSC\n",
      "50   198  SARC\n"
     ]
    }
   ],
   "source": [
    "import os\n",
    "import random\n",
    "\n",
    "def test_train(sourceDir,target,can):\n",
    "    fol = os.listdir(sourceDir)\n",
    "    if not os.path.exists(target):\n",
    "        os.makedirs(target)\n",
    "    k=int(round(len(fol)*0.2))\n",
    "    print(k,\" \",len(fol)-k,\" \"+can)  \n",
    "    sam = random.sample(fol,(int(round(len(fol)*0.2))))\n",
    "    for x in sam:\n",
    "\t        os.rename(sourceDir+'/'+x,target+'/'+x.split('.')[0]+'_'+can)\n",
    "test_train('DataTcga/gdac.broadinstitute.org_BLCA.Mutation_Packager_Raw_Calls.Level_3.2016012800.0.0','test','BLCA')\n",
    "test_train('DataTcga/gdac.broadinstitute.org_BRCA.Mutation_Packager_Oncotated_Calls.Level_3.2016012800.0.0','test','BRCA')\n",
    "test_train('DataTcga/gdac.broadinstitute.org_CESC.Mutation_Packager_Oncotated_Calls.Level_3.2016012800.0.0','test','CESC')\n",
    "test_train('DataTcga/gdac.broadinstitute.org_COAD.Mutation_Packager_Oncotated_Raw_Calls.Level_3.2016012800.0.0','test','COAD')\n",
    "test_train('DataTcga/gdac.broadinstitute.org_COADREAD.Mutation_Packager_Oncotated_Raw_Calls.Level_3.2016012800.0.0','test','COADREAD')\n",
    "test_train('DataTcga/gdac.broadinstitute.org_HNSC.Mutation_Packager_Oncotated_Calls.Level_3.2016012800.0.0','test','HNSC')\n",
    "test_train('DataTcga/gdac.broadinstitute.org_LUAD.Mutation_Packager_Oncotated_Raw_Calls.Level_3.2016012800.0.0','test','LUAD')\n",
    "test_train('DataTcga/gdac.broadinstitute.org_PCPG.Mutation_Packager_Oncotated_Calls.Level_3.2016012800.0.0','test','PCPG')\n",
    "test_train('DataTcga/gdac.broadinstitute.org_PRAD.Mutation_Packager_Oncotated_Raw_Calls.Level_3.2016012800.0.0','test','PRAD')\n",
    "test_train('DataTcga/gdac.broadinstitute.org_READ.Mutation_Packager_Oncotated_Raw_Calls.Level_3.2016012800.0.0','test','READ')\n",
    "test_train('DataTcga/gdac.broadinstitute.org_LUSC.Mutation_Packager_Oncotated_Calls.Level_3.2016012800.0.0','test','LUSC')\n",
    "test_train('DataTcga/gdac.broadinstitute.org_SARC.Mutation_Packager_Oncotated_Calls.Level_3.2016012800.0.0','test','SARC')"
   ]
  },
  {
   "cell_type": "code",
   "execution_count": 9,
   "metadata": {},
   "outputs": [
    {
     "name": "stdout",
     "output_type": "stream",
     "text": [
      "Skipping file  TCGA-37-3789-01_LUSC\n",
      "Skipping file  TCGA-39-5031-01_LUSC\n",
      "Skipping file  TCGA-44-2662-01_LUAD\n",
      "Skipping file  TCGA-53-7626-01_LUAD\n",
      "Skipping file  TCGA-55-6982-01_LUAD\n",
      "Skipping file  TCGA-55-7994-01_LUAD\n",
      "Skipping file  TCGA-63-5131-01_LUSC\n",
      "Skipping file  TCGA-78-7154-01_LUAD\n",
      "Skipping file  TCGA-A2-A0T2-01_BRCA\n",
      "Skipping file  TCGA-A8-A09Z-01_BRCA\n",
      "Skipping file  TCGA-AA-3950-01_COADREAD\n",
      "Skipping file  TCGA-AC-A3QP-01_BRCA\n",
      "Skipping file  TCGA-AG-A02N-01_COADREAD\n",
      "Skipping file  TCGA-AZ-6598-01_COADREAD\n",
      "Skipping file  TCGA-C5-A1BQ-01_CESC\n",
      "Skipping file  TCGA-CR-7394-01_HNSC\n",
      "Skipping file  TCGA-CV-7418-01_HNSC\n",
      "Skipping file  TCGA-DG-A2KM-01_CESC\n",
      "Skipping file  TCGA-G4-6309-01_COAD\n",
      "Skipping file  TCGA-G4-6586-01_COADREAD\n",
      "Skipping file  TCGA-IR-A3LK-01_CESC\n",
      "Skipping file  TCGA-JX-A3Q0-01_CESC\n",
      "Skipping file  TCGA-OL-A5RW-01_BRCA\n",
      "Skipping file  TCGA-UC-A7PF-01_CESC\n"
     ]
    }
   ],
   "source": [
    "import os\n",
    "def process_test(sourceDir,target):\n",
    "    if not os.path.exists(target):\n",
    "        os.makedirs(target)\n",
    "    files = os.listdir(sourceDir)\n",
    "    for file in files:\n",
    "        try:\n",
    "            cancert=file.split('_')[1].strip()\n",
    "            file_path=os.path.join(sourceDir,file)\n",
    "            if cancert==\"BLCA\":\n",
    "                df = pd.read_csv(file_path,sep='\\t',usecols=['Start_position','End_position','Genome_Change','Variant_Classification','Variant_Type','Tumor_Sample_Barcode'])\n",
    "            else:\n",
    "                df = pd.read_csv(file_path,sep='\\t',skiprows=[0,1,2],usecols=['Start_position','End_position','Genome_Change','Variant_Classification','Variant_Type','Tumor_Sample_Barcode'])\n",
    "            df['Chromosome'] = df.apply(lambda x : x.Genome_Change.split('.')[1].strip().split(':')[0].strip(), axis=1)\n",
    "            # df['Chrom_position'] = df.apply(lambda x : x.Genome_Change.split('.')[1].strip().split(':')[1].strip(\"ABCDEFGHIJKLMNOPQRSTUVWXYZ>_insdel\"), axis=1)\n",
    "            df['Mutation'] = df.apply(lambda x : x.Genome_Change.split('.')[1].strip().split(':')[1].strip(\"0123456789_\"), axis=1)\n",
    "            cancert=file.split('_')[1].strip()\n",
    "            df['Cancer']=file.split('_')[1].strip()\n",
    "            df.to_csv(os.path.join(target,file.split('.')[0])+'_'+cancert)\n",
    "        except:\n",
    "            \n",
    "            print(\"Skipping file \",file)\n",
    "            continue\n",
    "process_test('test','testProcess1')"
   ]
  },
  {
   "cell_type": "code",
   "execution_count": 18,
   "metadata": {},
   "outputs": [],
   "source": [
    "def process1(sourceDir,target,cancert):\n",
    "    if not os.path.exists(sourceDir):\n",
    "        return False\n",
    "    if not os.path.exists(target):\n",
    "        os.makedirs(target)\n",
    "    files = os.listdir(sourceDir)\n",
    "    \n",
    "    for file in files:\n",
    "        try:\n",
    "            file_path=os.path.join(sourceDir,file)\n",
    "            df = pd.read_csv(file_path,sep='\\t',skiprows=[0,1,2],usecols=['Start_position','End_position','Genome_Change','Variant_Classification','Variant_Type','Tumor_Sample_Barcode'])\n",
    "            df['Chromosome'] = df.apply(lambda x : x.Genome_Change.split('.')[1].strip().split(':')[0].strip(), axis=1)\n",
    "            # df['Chrom_position'] = df.apply(lambda x : x.Genome_Change.split('.')[1].strip().split(':')[1].strip(\"ABCDEFGHIJKLMNOPQRSTUVWXYZ>_insdel\"), axis=1)\n",
    "            df['Mutation'] = df.apply(lambda x : x.Genome_Change.split('.')[1].strip().split(':')[1].strip(\"0123456789_\"), axis=1)\n",
    "            df['Cancer']=cancert\n",
    "            df.to_csv(os.path.join(target,file.split('.')[0])+'_'+cancert)\n",
    "        except:\n",
    "            print(\"Skipping file \",file)\n",
    "            continue\n",
    "\n"
   ]
  },
  {
   "cell_type": "code",
   "execution_count": 17,
   "metadata": {},
   "outputs": [
    {
     "name": "stdout",
     "output_type": "stream",
     "text": [
      "Skipping file  TCGA-E7-A85H-01.maf.txt\n"
     ]
    }
   ],
   "source": [
    "process1('DataTcga/gdac.broadinstitute.org_BLCA.Mutation_Packager_Raw_Calls.Level_3.2016012800.0.0','Process1Data','TCGA-BLCA')"
   ]
  },
  {
   "cell_type": "code",
   "execution_count": 19,
   "metadata": {},
   "outputs": [
    {
     "name": "stdout",
     "output_type": "stream",
     "text": [
      "Skipping file  TCGA-A1-A0SK-01.hg19.oncotator.hugo_entrez_remapped.maf.txt\n",
      "Skipping file  TCGA-A2-A04X-01.hg19.oncotator.hugo_entrez_remapped.maf.txt\n",
      "Skipping file  TCGA-A2-A0CZ-01.hg19.oncotator.hugo_entrez_remapped.maf.txt\n",
      "Skipping file  TCGA-A2-A0T5-01.hg19.oncotator.hugo_entrez_remapped.maf.txt\n",
      "Skipping file  TCGA-A2-A4RY-01.hg19.oncotator.hugo_entrez_remapped.maf.txt\n",
      "Skipping file  TCGA-A8-A09Q-01.hg19.oncotator.hugo_entrez_remapped.maf.txt\n",
      "Skipping file  TCGA-AC-A3TN-01.hg19.oncotator.hugo_entrez_remapped.maf.txt\n",
      "Skipping file  TCGA-AO-A1KR-01.hg19.oncotator.hugo_entrez_remapped.maf.txt\n",
      "Skipping file  TCGA-BH-A0BS-01.hg19.oncotator.hugo_entrez_remapped.maf.txt\n",
      "Skipping file  TCGA-BH-A42V-01.hg19.oncotator.hugo_entrez_remapped.maf.txt\n",
      "Skipping file  TCGA-C8-A26V-01.hg19.oncotator.hugo_entrez_remapped.maf.txt\n",
      "Skipping file  TCGA-E9-A1NC-01.hg19.oncotator.hugo_entrez_remapped.maf.txt\n",
      "Skipping file  TCGA-E9-A249-01.hg19.oncotator.hugo_entrez_remapped.maf.txt\n",
      "Skipping file  TCGA-LL-A5YL-01.hg19.oncotator.hugo_entrez_remapped.maf.txt\n"
     ]
    }
   ],
   "source": [
    "process1('DataTcga/gdac.broadinstitute.org_BRCA.Mutation_Packager_Oncotated_Calls.Level_3.2016012800.0.0','Process1Data','TCGA-BRCA')"
   ]
  },
  {
   "cell_type": "code",
   "execution_count": 20,
   "metadata": {},
   "outputs": [
    {
     "name": "stdout",
     "output_type": "stream",
     "text": [
      "Skipping file  MANIFEST.txt\n",
      "Skipping file  TCGA-C5-A2LZ-01.hg19.oncotator.hugo_entrez_remapped.maf.txt\n",
      "Skipping file  TCGA-C5-A2M2-01.hg19.oncotator.hugo_entrez_remapped.maf.txt\n",
      "Skipping file  TCGA-C5-A3HD-01.hg19.oncotator.hugo_entrez_remapped.maf.txt\n",
      "Skipping file  TCGA-C5-A3HE-01.hg19.oncotator.hugo_entrez_remapped.maf.txt\n",
      "Skipping file  TCGA-DG-A2KK-01.hg19.oncotator.hugo_entrez_remapped.maf.txt\n",
      "Skipping file  TCGA-DG-A2KL-01.hg19.oncotator.hugo_entrez_remapped.maf.txt\n",
      "Skipping file  TCGA-EA-A1QT-01.hg19.oncotator.hugo_entrez_remapped.maf.txt\n",
      "Skipping file  TCGA-EA-A3HU-01.hg19.oncotator.hugo_entrez_remapped.maf.txt\n",
      "Skipping file  TCGA-EA-A3QE-01.hg19.oncotator.hugo_entrez_remapped.maf.txt\n",
      "Skipping file  TCGA-EA-A50E-01.hg19.oncotator.hugo_entrez_remapped.maf.txt\n",
      "Skipping file  TCGA-EA-A5ZF-01.hg19.oncotator.hugo_entrez_remapped.maf.txt\n",
      "Skipping file  TCGA-EK-A2GZ-01.hg19.oncotator.hugo_entrez_remapped.maf.txt\n",
      "Skipping file  TCGA-EK-A2H0-01.hg19.oncotator.hugo_entrez_remapped.maf.txt\n",
      "Skipping file  TCGA-EK-A2IP-01.hg19.oncotator.hugo_entrez_remapped.maf.txt\n",
      "Skipping file  TCGA-EK-A2PI-01.hg19.oncotator.hugo_entrez_remapped.maf.txt\n",
      "Skipping file  TCGA-FU-A5XV-01.hg19.oncotator.hugo_entrez_remapped.maf.txt\n",
      "Skipping file  TCGA-IR-A3LC-01.hg19.oncotator.hugo_entrez_remapped.maf.txt\n",
      "Skipping file  TCGA-IR-A3LF-01.hg19.oncotator.hugo_entrez_remapped.maf.txt\n",
      "Skipping file  TCGA-IR-A3LH-01.hg19.oncotator.hugo_entrez_remapped.maf.txt\n",
      "Skipping file  TCGA-JW-A5VH-01.hg19.oncotator.hugo_entrez_remapped.maf.txt\n",
      "Skipping file  TCGA-JX-A5QV-01.hg19.oncotator.hugo_entrez_remapped.maf.txt\n",
      "Skipping file  TCGA-MU-A51Y-01.hg19.oncotator.hugo_entrez_remapped.maf.txt\n"
     ]
    }
   ],
   "source": [
    "process1('DataTcga/gdac.broadinstitute.org_CESC.Mutation_Packager_Oncotated_Calls.Level_3.2016012800.0.0','Process1Data','TCGA-CESC')"
   ]
  },
  {
   "cell_type": "code",
   "execution_count": 21,
   "metadata": {},
   "outputs": [
    {
     "name": "stdout",
     "output_type": "stream",
     "text": [
      "Skipping file  MANIFEST.txt\n",
      "Skipping file  TCGA-A6-5665-01.hg19.oncotator.hugo_entrez_remapped.maf.txt\n",
      "Skipping file  TCGA-A6-6781-01.hg19.oncotator.hugo_entrez_remapped.maf.txt\n",
      "Skipping file  TCGA-AA-3663-01.hg19.oncotator.hugo_entrez_remapped.maf.txt\n",
      "Skipping file  TCGA-AA-3870-01.hg19.oncotator.hugo_entrez_remapped.maf.txt\n",
      "Skipping file  TCGA-AA-3877-01.hg19.oncotator.hugo_entrez_remapped.maf.txt\n",
      "Skipping file  TCGA-AA-3950-01.hg19.oncotator.hugo_entrez_remapped.maf.txt\n",
      "Skipping file  TCGA-AA-3984-01.hg19.oncotator.hugo_entrez_remapped.maf.txt\n",
      "Skipping file  TCGA-AD-5900-01.hg19.oncotator.hugo_entrez_remapped.maf.txt\n",
      "Skipping file  TCGA-AD-6964-01.hg19.oncotator.hugo_entrez_remapped.maf.txt\n",
      "Skipping file  TCGA-AZ-6598-01.hg19.oncotator.hugo_entrez_remapped.maf.txt\n",
      "Skipping file  TCGA-CA-6716-01.hg19.oncotator.hugo_entrez_remapped.maf.txt\n",
      "Skipping file  TCGA-CK-5916-01.hg19.oncotator.hugo_entrez_remapped.maf.txt\n",
      "Skipping file  TCGA-CM-5861-01.hg19.oncotator.hugo_entrez_remapped.maf.txt\n",
      "Skipping file  TCGA-CM-6162-01.hg19.oncotator.hugo_entrez_remapped.maf.txt\n",
      "Skipping file  TCGA-CM-6171-01.hg19.oncotator.hugo_entrez_remapped.maf.txt\n",
      "Skipping file  TCGA-G4-6586-01.hg19.oncotator.hugo_entrez_remapped.maf.txt\n",
      "Skipping file  TCGA-G4-6628-01.hg19.oncotator.hugo_entrez_remapped.maf.txt\n"
     ]
    }
   ],
   "source": [
    "process1('DataTcga/gdac.broadinstitute.org_COAD.Mutation_Packager_Oncotated_Raw_Calls.Level_3.2016012800.0.0','Process1Data','TCGA-COAD')"
   ]
  },
  {
   "cell_type": "code",
   "execution_count": 22,
   "metadata": {},
   "outputs": [
    {
     "name": "stdout",
     "output_type": "stream",
     "text": [
      "Skipping file  MANIFEST.txt\n",
      "Skipping file  TCGA-A6-5665-01.hg19.oncotator.hugo_entrez_remapped.maf.txt\n",
      "Skipping file  TCGA-A6-6781-01.hg19.oncotator.hugo_entrez_remapped.maf.txt\n",
      "Skipping file  TCGA-AA-3663-01.hg19.oncotator.hugo_entrez_remapped.maf.txt\n",
      "Skipping file  TCGA-AA-3870-01.hg19.oncotator.hugo_entrez_remapped.maf.txt\n",
      "Skipping file  TCGA-AA-3877-01.hg19.oncotator.hugo_entrez_remapped.maf.txt\n",
      "Skipping file  TCGA-AA-3984-01.hg19.oncotator.hugo_entrez_remapped.maf.txt\n",
      "Skipping file  TCGA-AD-5900-01.hg19.oncotator.hugo_entrez_remapped.maf.txt\n",
      "Skipping file  TCGA-AD-6964-01.hg19.oncotator.hugo_entrez_remapped.maf.txt\n",
      "Skipping file  TCGA-AG-A002-01.hg19.oncotator.hugo_entrez_remapped.maf.txt\n",
      "Skipping file  TCGA-CA-6716-01.hg19.oncotator.hugo_entrez_remapped.maf.txt\n",
      "Skipping file  TCGA-CK-5916-01.hg19.oncotator.hugo_entrez_remapped.maf.txt\n",
      "Skipping file  TCGA-CM-5861-01.hg19.oncotator.hugo_entrez_remapped.maf.txt\n",
      "Skipping file  TCGA-CM-6162-01.hg19.oncotator.hugo_entrez_remapped.maf.txt\n",
      "Skipping file  TCGA-CM-6171-01.hg19.oncotator.hugo_entrez_remapped.maf.txt\n",
      "Skipping file  TCGA-F5-6813-01.hg19.oncotator.hugo_entrez_remapped.maf.txt\n",
      "Skipping file  TCGA-G4-6309-01.hg19.oncotator.hugo_entrez_remapped.maf.txt\n",
      "Skipping file  TCGA-G4-6628-01.hg19.oncotator.hugo_entrez_remapped.maf.txt\n"
     ]
    }
   ],
   "source": [
    "process1('DataTcga/gdac.broadinstitute.org_COADREAD.Mutation_Packager_Oncotated_Raw_Calls.Level_3.2016012800.0.0','Process1Data','TCGA-COADREAD')"
   ]
  },
  {
   "cell_type": "code",
   "execution_count": 23,
   "metadata": {},
   "outputs": [
    {
     "name": "stdout",
     "output_type": "stream",
     "text": [
      "Skipping file  MANIFEST.txt\n",
      "Skipping file  TCGA-CN-6023-01.hg19.oncotator.hugo_entrez_remapped.maf.txt\n",
      "Skipping file  TCGA-D6-6516-01.hg19.oncotator.hugo_entrez_remapped.maf.txt\n"
     ]
    }
   ],
   "source": [
    "process1('DataTcga/gdac.broadinstitute.org_HNSC.Mutation_Packager_Oncotated_Calls.Level_3.2016012800.0.0','Process1Data','TCGA-HNSC')"
   ]
  },
  {
   "cell_type": "code",
   "execution_count": 24,
   "metadata": {},
   "outputs": [
    {
     "name": "stdout",
     "output_type": "stream",
     "text": [
      "Skipping file  MANIFEST.txt\n",
      "Skipping file  TCGA-05-4397-01.hg19.oncotator.hugo_entrez_remapped.maf.txt\n",
      "Skipping file  TCGA-17-Z031-01.hg19.oncotator.hugo_entrez_remapped.maf.txt\n",
      "Skipping file  TCGA-17-Z032-01.hg19.oncotator.hugo_entrez_remapped.maf.txt\n",
      "Skipping file  TCGA-44-6144-01.hg19.oncotator.hugo_entrez_remapped.maf.txt\n",
      "Skipping file  TCGA-44-7670-01.hg19.oncotator.hugo_entrez_remapped.maf.txt\n",
      "Skipping file  TCGA-55-7281-01.hg19.oncotator.hugo_entrez_remapped.maf.txt\n",
      "Skipping file  TCGA-55-8511-01.hg19.oncotator.hugo_entrez_remapped.maf.txt\n",
      "Skipping file  TCGA-55-8615-01.hg19.oncotator.hugo_entrez_remapped.maf.txt\n",
      "Skipping file  TCGA-62-A46O-01.hg19.oncotator.hugo_entrez_remapped.maf.txt\n",
      "Skipping file  TCGA-64-1679-01.hg19.oncotator.hugo_entrez_remapped.maf.txt\n",
      "Skipping file  TCGA-78-7537-01.hg19.oncotator.hugo_entrez_remapped.maf.txt\n",
      "Skipping file  TCGA-93-A4JN-01.hg19.oncotator.hugo_entrez_remapped.maf.txt\n",
      "Skipping file  TCGA-97-8175-01.hg19.oncotator.hugo_entrez_remapped.maf.txt\n",
      "Skipping file  TCGA-MN-A4N1-01.hg19.oncotator.hugo_entrez_remapped.maf.txt\n",
      "Skipping file  TCGA-NJ-A4YQ-01.hg19.oncotator.hugo_entrez_remapped.maf.txt\n"
     ]
    }
   ],
   "source": [
    "process1('DataTcga/gdac.broadinstitute.org_LUAD.Mutation_Packager_Oncotated_Raw_Calls.Level_3.2016012800.0.0','Process1Data','TCGA-LUAD')"
   ]
  },
  {
   "cell_type": "code",
   "execution_count": 25,
   "metadata": {},
   "outputs": [
    {
     "name": "stdout",
     "output_type": "stream",
     "text": [
      "Skipping file  MANIFEST.txt\n",
      "Skipping file  TCGA-18-3412-01.hg19.oncotator.hugo_entrez_remapped.maf.txt\n",
      "Skipping file  TCGA-22-5485-01.hg19.oncotator.hugo_entrez_remapped.maf.txt\n",
      "Skipping file  TCGA-66-2763-01.hg19.oncotator.hugo_entrez_remapped.maf.txt\n"
     ]
    }
   ],
   "source": [
    "process1('DataTcga/gdac.broadinstitute.org_LUSC.Mutation_Packager_Oncotated_Calls.Level_3.2016012800.0.0','Process1Data','TCGA-LUSC')"
   ]
  },
  {
   "cell_type": "code",
   "execution_count": 26,
   "metadata": {},
   "outputs": [
    {
     "name": "stdout",
     "output_type": "stream",
     "text": [
      "Skipping file  MANIFEST.txt\n"
     ]
    }
   ],
   "source": [
    "process1('DataTcga/gdac.broadinstitute.org_PCPG.Mutation_Packager_Oncotated_Calls.Level_3.2016012800.0.0','Process1Data','TCGA-PCPG')"
   ]
  },
  {
   "cell_type": "code",
   "execution_count": 27,
   "metadata": {},
   "outputs": [
    {
     "name": "stdout",
     "output_type": "stream",
     "text": [
      "Skipping file  MANIFEST.txt\n"
     ]
    }
   ],
   "source": [
    "process1('DataTcga/gdac.broadinstitute.org_PRAD.Mutation_Packager_Oncotated_Raw_Calls.Level_3.2016012800.0.0','Process1Data','TCGA-PRAD')"
   ]
  },
  {
   "cell_type": "code",
   "execution_count": 28,
   "metadata": {},
   "outputs": [
    {
     "name": "stdout",
     "output_type": "stream",
     "text": [
      "Skipping file  MANIFEST.txt\n",
      "Skipping file  TCGA-AG-A002-01.hg19.oncotator.hugo_entrez_remapped.maf.txt\n",
      "Skipping file  TCGA-AG-A02N-01.hg19.oncotator.hugo_entrez_remapped.maf.txt\n",
      "Skipping file  TCGA-F5-6813-01.hg19.oncotator.hugo_entrez_remapped.maf.txt\n"
     ]
    }
   ],
   "source": [
    "process1('DataTcga/gdac.broadinstitute.org_READ.Mutation_Packager_Oncotated_Raw_Calls.Level_3.2016012800.0.0','Process1Data','TCGA-READ')"
   ]
  },
  {
   "cell_type": "code",
   "execution_count": 29,
   "metadata": {},
   "outputs": [
    {
     "name": "stdout",
     "output_type": "stream",
     "text": [
      "Skipping file  TCGA-IE-A4EI-01.hg19.oncotator.hugo_entrez_remapped.maf.txt\n"
     ]
    }
   ],
   "source": [
    "process1('DataTcga/gdac.broadinstitute.org_SARC.Mutation_Packager_Oncotated_Calls.Level_3.2016012800.0.0','Process1Data','TCGA-UCEC')"
   ]
  },
  {
   "cell_type": "code",
   "execution_count": 30,
   "metadata": {},
   "outputs": [],
   "source": [
    "def process2(sourceDir):\n",
    "    if not os.path.exists(sourceDir):\n",
    "        return False\n",
    "    files = os.listdir(sourceDir)\n",
    "    dflist=[]\n",
    "    c=0\n",
    "    for file in files:\n",
    "        file_path=os.path.join(sourceDir,file)\n",
    "        df = pd.read_csv(file_path,delimiter=',')\n",
    "        # df.combine\n",
    "        dflist.append(df)\n",
    "\n",
    "    merged_df= pd.concat(dflist)\n",
    "    return merged_df\n",
    "\n",
    "\n"
   ]
  },
  {
   "cell_type": "code",
   "execution_count": null,
   "metadata": {},
   "outputs": [],
   "source": [
    "data = process2('Process1Data')\n",
    "data.drop(columns=data.columns[0], axis=1,  inplace=True)\n",
    "data.to_csv('mergedtrain.csv',index=False)\n",
    "data"
   ]
  },
  {
   "cell_type": "code",
   "execution_count": null,
   "metadata": {},
   "outputs": [],
   "source": [
    "data = process2('testProcess1')\n",
    "data.drop(columns=data.columns[0], axis=1,  inplace=True)\n",
    "data.to_csv('mergedtest.csv',index=False)\n",
    "data"
   ]
  },
  {
   "cell_type": "code",
   "execution_count": 32,
   "metadata": {},
   "outputs": [
    {
     "name": "stdout",
     "output_type": "stream",
     "text": [
      "264.332296204107\n"
     ]
    }
   ],
   "source": [
    "df = pd.read_csv('mergedtrain.csv',delimiter=',')\n",
    "value_counts = df['Tumor_Sample_Barcode'].value_counts()\n",
    "print(len(df)/len(value_counts))"
   ]
  },
  {
   "attachments": {},
   "cell_type": "markdown",
   "metadata": {},
   "source": [
    "Each Patient has 264 avergae mutations"
   ]
  },
  {
   "cell_type": "code",
   "execution_count": 102,
   "metadata": {},
   "outputs": [
    {
     "data": {
      "text/plain": [
       "0         G>A\n",
       "1         C>G\n",
       "2         C>A\n",
       "3         G>A\n",
       "4         T>A\n",
       "         ... \n",
       "984524    G>A\n",
       "984525    G>C\n",
       "984526    G>A\n",
       "984527    G>A\n",
       "984528    G>A\n",
       "Name: Mutation, Length: 984529, dtype: object"
      ]
     },
     "execution_count": 102,
     "metadata": {},
     "output_type": "execute_result"
    }
   ],
   "source": [
    "df['Mutation']"
   ]
  },
  {
   "cell_type": "code",
   "execution_count": 34,
   "metadata": {},
   "outputs": [],
   "source": [
    "dflist =[]\n",
    "for barcode in value_counts.index:\n",
    "    new_df = df[df['Tumor_Sample_Barcode']==barcode].head(262)\n",
    "    dflist.append(new_df)\n",
    "\n",
    "new_df= pd.concat(dflist)\n",
    "new_df.to_csv('tranformed_train.csv',index=False)"
   ]
  },
  {
   "cell_type": "code",
   "execution_count": 33,
   "metadata": {},
   "outputs": [],
   "source": [
    "dflist =[]\n",
    "for barcode in value_counts.index:\n",
    "    new_df = df[df['Tumor_Sample_Barcode']==barcode].head(262)\n",
    "    dflist.append(new_df)\n",
    "\n",
    "new_df= pd.concat(dflist)\n",
    "new_df.to_csv('tranformed_test.csv',index=False)\n"
   ]
  },
  {
   "cell_type": "code",
   "execution_count": 48,
   "metadata": {},
   "outputs": [],
   "source": [
    "import warnings\n",
    "warnings.filterwarnings(\"ignore\")\n",
    "\n",
    "def screening(filename,outputfile):\n",
    "    df= pd.read_csv(filename,delimiter=',')\n",
    "    dataframe = pd.DataFrame(columns=['Features','Class'])\n",
    "    value_counts = df['Tumor_Sample_Barcode'].value_counts()\n",
    "    for count,barcode in enumerate(value_counts.index):\n",
    "        new_df = df[df['Tumor_Sample_Barcode']==barcode]\n",
    "        new_df['Mutation Features'] = new_df['Chromosome'].astype(str)+' '+ new_df['Start_position'].astype(str) +' '+ new_df['Variant_Classification'].astype(str) + ' ' + new_df['Mutation'].astype(str) \n",
    "        data = '. '.join(new_df['Mutation Features'])\n",
    "        dataframe= pd.concat([dataframe,pd.DataFrame({'Features':[data],\n",
    "            'Class':[new_df.iloc[0]['Cancer']]\n",
    "           })],ignore_index=True)\n",
    "        # print(count)\n",
    "    dataframe.to_csv(outputfile,sep=',',index=False)"
   ]
  },
  {
   "cell_type": "code",
   "execution_count": null,
   "metadata": {},
   "outputs": [],
   "source": [
    "screening('tranformed_train.csv','screened_train.csv')"
   ]
  },
  {
   "cell_type": "code",
   "execution_count": null,
   "metadata": {},
   "outputs": [],
   "source": [
    "screening('tranformed_test.csv','screened_test.csv')"
   ]
  }
 ],
 "metadata": {
  "kernelspec": {
   "display_name": "Python 3",
   "language": "python",
   "name": "python3"
  },
  "language_info": {
   "codemirror_mode": {
    "name": "ipython",
    "version": 3
   },
   "file_extension": ".py",
   "mimetype": "text/x-python",
   "name": "python",
   "nbconvert_exporter": "python",
   "pygments_lexer": "ipython3",
   "version": "3.11.2"
  },
  "orig_nbformat": 4
 },
 "nbformat": 4,
 "nbformat_minor": 2
}
